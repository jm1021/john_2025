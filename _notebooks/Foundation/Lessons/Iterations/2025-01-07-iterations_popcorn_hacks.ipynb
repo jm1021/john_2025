{
 "cells": [
  {
   "cell_type": "raw",
   "metadata": {
    "vscode": {
     "languageId": "raw"
    }
   },
   "source": [
    "---\n",
    "comments: True\n",
    "layout: post\n",
    "title: Iteration Popcorn Hacks\n",
    "description: Iterations Popcorn Hacks\n",
    "permalink: /csse/javascript/fundamentals/iteration/Popcorn_Hacks\n",
    "categories: [CSSE JavaScript Fundamentals]\n",
    "author: Andrew Ge, Ishan Shrivastava, Pratheep Natarajan, and Ruhaan Bansal\n",
    "---  "
   ]
  },
  {
   "cell_type": "markdown",
   "metadata": {
    "vscode": {
     "languageId": "plaintext"
    }
   },
   "source": [
    "# Popcorn Hacks on Iterations in JavaScript"
   ]
  },
  {
   "cell_type": "markdown",
   "metadata": {},
   "source": [
    "##### Instructions:\n",
    "##### Complete the exercises below in JavaScript.\n",
    "##### You can run and test your code in a JavaScript environment."
   ]
  },
  {
   "cell_type": "markdown",
   "metadata": {},
   "source": [
    "### Exercise 1: Counting with a For Loop\n",
    "##### Write a JavaScript for loop that prints all numbers from 1 to 10."
   ]
  },
  {
   "cell_type": "markdown",
   "metadata": {},
   "source": [
    "##### Example:\n",
    "##### Output:\n",
    "##### 1\n",
    "##### 2\n",
    "##### 3\n",
    "##### ...\n",
    "##### 9 \n",
    "##### 10 "
   ]
  },
  {
   "cell_type": "code",
   "execution_count": 3,
   "metadata": {
    "vscode": {
     "languageId": "javascript"
    }
   },
   "outputs": [
    {
     "data": {
      "application/javascript": "\nfor (let count = 1; count <= 10; count++) {\n    console.log(count);\n}\n",
      "text/plain": [
       "<IPython.core.display.Javascript object>"
      ]
     },
     "metadata": {},
     "output_type": "display_data"
    }
   ],
   "source": [
    "%%js\n",
    "\n",
    "for (let count = 1; count <= 10; count++) {\n",
    "    console.log(count);\n",
    "}"
   ]
  },
  {
   "cell_type": "markdown",
   "metadata": {},
   "source": [
    "### Exercise 2: Sum of Numbers\n",
    "##### Write a for loop in JavaScript to calculate the sum of all numbers from 1 to n using a loop."
   ]
  },
  {
   "cell_type": "markdown",
   "metadata": {},
   "source": [
    "##### Example:\n",
    "##### Input: 5\n",
    "##### Output: 15 (because 1 + 2 + 3 + 4 + 5 = 15)\n"
   ]
  },
  {
   "cell_type": "code",
   "execution_count": 6,
   "metadata": {
    "vscode": {
     "languageId": "javascript"
    }
   },
   "outputs": [
    {
     "data": {
      "application/javascript": "\nlet total = 0;\nfor (let count = 1; count <= 10; count++) {\n    total += count;\n}\nconsole.log(total);\n",
      "text/plain": [
       "<IPython.core.display.Javascript object>"
      ]
     },
     "metadata": {},
     "output_type": "display_data"
    }
   ],
   "source": [
    "%%js\n",
    "\n",
    "let total = 0;\n",
    "for (let count = 1; count <= 10; count++) {\n",
    "    total += count;\n",
    "}\n",
    "console.log(total);"
   ]
  },
  {
   "cell_type": "markdown",
   "metadata": {},
   "source": [
    "### Exercise 3: Looping through Arrays\n",
    "##### Write a JavaScript program to iterate through an array of names and print each name."
   ]
  },
  {
   "cell_type": "code",
   "execution_count": 7,
   "metadata": {
    "vscode": {
     "languageId": "javascript"
    }
   },
   "outputs": [
    {
     "data": {
      "application/javascript": "const names = ['John','Tanisha','Rachit','Jeff'];\n\nfor (let i = 0; i < names.length; i++){\n    console.log(names[i]); \n}\n",
      "text/plain": [
       "<IPython.core.display.Javascript object>"
      ]
     },
     "metadata": {},
     "output_type": "display_data"
    }
   ],
   "source": [
    "%%js\n",
    "const names = ['John','Tanisha','Rachit','Jeff'];\n",
    "\n",
    "for (let i = 0; i < names.length; i++){\n",
    "    console.log(names[i]); \n",
    "}"
   ]
  }
 ],
 "metadata": {
  "kernelspec": {
   "display_name": "venv",
   "language": "python",
   "name": "python3"
  },
  "language_info": {
   "codemirror_mode": {
    "name": "ipython",
    "version": 3
   },
   "file_extension": ".py",
   "mimetype": "text/x-python",
   "name": "python",
   "nbconvert_exporter": "python",
   "pygments_lexer": "ipython3",
   "version": "3.12.5"
  }
 },
 "nbformat": 4,
 "nbformat_minor": 2
}
